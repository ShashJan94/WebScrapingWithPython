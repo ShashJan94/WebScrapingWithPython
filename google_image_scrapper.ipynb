{
 "cells": [
  {
   "cell_type": "code",
   "execution_count": 1,
   "id": "087e67f5-1a84-4348-b36b-699119cd2d6b",
   "metadata": {},
   "outputs": [],
   "source": [
    "from selenium import webdriver\n",
    "from selenium.webdriver.common.by import By\n",
    "from webdriver_manager.chrome import ChromeDriverManager\n",
    "from selenium.webdriver.common.keys import Keys\n",
    "from selenium.webdriver.chrome.options import Options\n",
    "from selenium.common import exceptions as ex\n",
    "import re,requests"
   ]
  },
  {
   "cell_type": "code",
   "execution_count": 8,
   "id": "02262448-e169-46e8-b170-b247efeb946d",
   "metadata": {},
   "outputs": [
    {
     "name": "stdout",
     "output_type": "stream",
     "text": [
      "\n"
     ]
    },
    {
     "name": "stderr",
     "output_type": "stream",
     "text": [
      "[WDM] - ====== WebDriver manager ======\n"
     ]
    },
    {
     "name": "stdout",
     "output_type": "stream",
     "text": [
      "2022-07-17 00:16:56,224 INFO ====== WebDriver manager ======\n"
     ]
    },
    {
     "name": "stderr",
     "output_type": "stream",
     "text": [
      "[WDM] - Current google-chrome version is 103.0.5060\n"
     ]
    },
    {
     "name": "stdout",
     "output_type": "stream",
     "text": [
      "2022-07-17 00:16:56,226 INFO Current google-chrome version is 103.0.5060\n"
     ]
    },
    {
     "name": "stderr",
     "output_type": "stream",
     "text": [
      "[WDM] - Get LATEST chromedriver version for 103.0.5060 google-chrome\n"
     ]
    },
    {
     "name": "stdout",
     "output_type": "stream",
     "text": [
      "2022-07-17 00:16:56,227 INFO Get LATEST chromedriver version for 103.0.5060 google-chrome\n"
     ]
    },
    {
     "name": "stderr",
     "output_type": "stream",
     "text": [
      "[WDM] - Driver [C:\\Users\\ctgfa\\.wdm\\drivers\\chromedriver\\win32\\103.0.5060.53\\chromedriver.exe] found in cache\n"
     ]
    },
    {
     "name": "stdout",
     "output_type": "stream",
     "text": [
      "2022-07-17 00:16:56,324 INFO Driver [C:\\Users\\ctgfa\\.wdm\\drivers\\chromedriver\\win32\\103.0.5060.53\\chromedriver.exe] found in cache\n"
     ]
    },
    {
     "name": "stderr",
     "output_type": "stream",
     "text": [
      "C:\\Users\\ctgfa\\AppData\\Local\\Temp/ipykernel_274312/4091131235.py:1: DeprecationWarning: executable_path has been deprecated, please pass in a Service object\n",
      "  browser = webdriver.Chrome(ChromeDriverManager().install())\n"
     ]
    }
   ],
   "source": [
    "browser = webdriver.Chrome(ChromeDriverManager().install())\n",
    "img_search = \"kali\"\n",
    "browser.get(\"https://images.google.com/\")\n",
    "button =browser.find_element(\"id\",\"W0wltc\")\n",
    "if button is not None:\n",
    "    button.click()\n",
    "    se_box =browser.find_element(\"name\",\"q\")\n",
    "    se_box.send_keys(img_search)\n",
    "    se_box.send_keys(Keys.ENTER)\n",
    "else:\n",
    "    se_box =browser.find_element(\"name\",\"q\")\n",
    "    se_box.send_keys(img_search)\n",
    "    se_box.send_keys(Keys.ENTER)\n",
    "browser.execute_script(\"window.scrollTo(0, 10000);\")"
   ]
  },
  {
   "cell_type": "code",
   "execution_count": 9,
   "id": "47e5db46-8dd3-4b08-a911-353df098639f",
   "metadata": {},
   "outputs": [
    {
     "name": "stdout",
     "output_type": "stream",
     "text": [
      "https://www.gstatic.com/ui/v1/menu/light_thumbnail2.png\n",
      "https://www.gstatic.com/ui/v1/menu/dark_thumbnail2.png\n",
      "https://www.gstatic.com/ui/v1/menu/device_default_thumbnail2.png\n",
      "https://encrypted-tbn0.gstatic.com/images?q=tbn:ANd9GcS5ZJpigoXqpghw0ebIJZQ1vdKUMVnm_a2bjafpGcA&usqp=CAU\n",
      "https://encrypted-tbn0.gstatic.com/images?q=tbn:ANd9GcRGoAf4l3VkOB2H5D9KlW3fo6yA693tw0G8LK7qqc8&usqp=CAU\n",
      "https://encrypted-tbn0.gstatic.com/images?q=tbn:ANd9GcTFiJlQ8BPj14Ku01HKy3Tbj3N924udiCnwQsCkMEw&usqp=CAU\n",
      "https://encrypted-tbn0.gstatic.com/images?q=tbn:ANd9GcQr-JP01PEzfTMGChTpnVZxFrOwPFXpqUwAR_U1Q_4G9s8WQErS&usqp=CAU\n",
      "https://encrypted-tbn0.gstatic.com/images?q=tbn:ANd9GcRoFHfkDSgwwa--HBh-2v2nRkXKJKulhtxiX9cxMYP6ijJX8LwU&usqp=CAU\n",
      "https://encrypted-tbn0.gstatic.com/images?q=tbn:ANd9GcShaVoBYjJ1LF45unBUvY6FgbOzAppiZRivrfkRA6XVdoyZ4fLk&usqp=CAU\n",
      "https://encrypted-tbn0.gstatic.com/images?q=tbn:ANd9GcTDGrbt1xFI-nJvk1EnbwOP1pYAWYOqcva7mwJCydzDpGKIOtqG&usqp=CAU\n",
      "https://encrypted-tbn0.gstatic.com/images?q=tbn:ANd9GcRNLmdAXvOZYiygC2mXSD85iTGFoMFDJSyhL4o_t3BU2QGtgCNk&usqp=CAU\n",
      "https://encrypted-tbn0.gstatic.com/images?q=tbn:ANd9GcRJvL6K7YCYOzB1TDHg4OeyAnr6hRRCQR_edjlc453MFyk1I89L&usqp=CAU\n",
      "https://encrypted-tbn0.gstatic.com/images?q=tbn:ANd9GcSwEog8pV7EiBDeLsmOgIzBpB5EMnDQhuThNxA9Ihm9JC3KF-fb&usqp=CAU\n",
      "https://encrypted-tbn0.gstatic.com/images?q=tbn:ANd9GcSpRZXHQOynmPI2YYLwamfcKQlQzsxWCk0jHzhCamlvRjKLOAb8&usqp=CAU\n",
      "https://encrypted-tbn0.gstatic.com/images?q=tbn:ANd9GcQxsNh2qnWU7pbMWhSRWjTvDCYH7ZCMN60IP9zGE8FcNQNF8ZAn&usqp=CAU\n",
      "https://encrypted-tbn0.gstatic.com/images?q=tbn:ANd9GcQYLxfo8_XnLAdo-d6qf8y6wTqOVdBG990NbAgGLs0&usqp=CAU\n",
      "https://encrypted-tbn0.gstatic.com/images?q=tbn:ANd9GcRL9RsxIpGYzXdGSAl7JQGlkKjougXJ_pEcKGhyDjvUryOM-K7o&usqp=CAU\n",
      "https://encrypted-tbn0.gstatic.com/images?q=tbn:ANd9GcT4epL09ojCFXMWgTOYmpalLcphCgq96YeJrV_DOWY&usqp=CAU\n",
      "https://encrypted-tbn0.gstatic.com/images?q=tbn:ANd9GcSCRXhok6sNPopJJvOzqWGtCVMyAxY7SunpdZOTyviEFfnwSuSY&usqp=CAU\n",
      "https://encrypted-tbn0.gstatic.com/images?q=tbn:ANd9GcQWTrnIQBSkvv44099A8LhYr2N9rfS7fmlrUj0C0WU-8OhYMUhe&usqp=CAU\n",
      "https://encrypted-tbn0.gstatic.com/images?q=tbn:ANd9GcQ2sz8j17C32NVa-MIB1akrA4tVOVlj9jXUEatan0JGVdrqIhCB&usqp=CAU\n",
      "https://encrypted-tbn0.gstatic.com/images?q=tbn:ANd9GcRBsHgQJwBNykGMFeF-q3bzJdm4KDuwSMEn6Q&usqp=CAU\n",
      "https://encrypted-tbn0.gstatic.com/images?q=tbn:ANd9GcRPK3lkugb10SEhhnmB1-_C9o-yUoWTtj9noQ&usqp=CAU\n",
      "https://encrypted-tbn0.gstatic.com/images?q=tbn:ANd9GcTF1O3iLpSUyU8blGr7_OtDMuIJj5pvjtjdlQ&usqp=CAU\n",
      "https://encrypted-tbn0.gstatic.com/images?q=tbn:ANd9GcSLUd13Wuxima3BrzQvJacYUj21TKdse2MTjw&usqp=CAU\n",
      "https://encrypted-tbn0.gstatic.com/images?q=tbn:ANd9GcSYN26FUdQ37rEQMoYV8HYz3nmWQy0C9nWrRaauY4u7v5z7OXwquvKJ&usqp=CAU\n",
      "https://encrypted-tbn0.gstatic.com/images?q=tbn:ANd9GcQgpgbV2Mba3LM08Z6wOb0vFnap39hmSSUL2fMCo1Fz0Tk7FnanPyWo&usqp=CAU\n",
      "https://encrypted-tbn0.gstatic.com/images?q=tbn:ANd9GcR1BAa3iHCfDavBhcRYgqZUycvLHtN2_FHkSwHMdA23moAw7hsTWR9q&usqp=CAU\n",
      "https://encrypted-tbn0.gstatic.com/images?q=tbn:ANd9GcTzyoauccfXA_BSEXlv4dTgsntM_W-f3HSO0A&usqp=CAU\n",
      "https://encrypted-tbn0.gstatic.com/images?q=tbn:ANd9GcSBuyMjTdW3VkXOYTeLHZ6nz-dCZKJE0xhmkg&usqp=CAU\n",
      "https://encrypted-tbn0.gstatic.com/images?q=tbn:ANd9GcSRIhEgUq__gJMmjdOAjHASGObS_HunHhJr9w&usqp=CAU\n",
      "https://encrypted-tbn0.gstatic.com/images?q=tbn:ANd9GcSU4fNkRvYecDp1C0wdfBAnePs6Xhduyq9ibA&usqp=CAU\n",
      "https://encrypted-tbn0.gstatic.com/images?q=tbn:ANd9GcTrGA5tyikubHPgZXOwHjPg7iP10U830zXbow&usqp=CAU\n",
      "https://encrypted-tbn0.gstatic.com/images?q=tbn:ANd9GcS3zZiUgAToVbLkEKhEZ0aTZqGxA9S8cfl9uw&usqp=CAU\n",
      "https://encrypted-tbn0.gstatic.com/images?q=tbn:ANd9GcTtnUpqeNS1szZ6J4x1XqQyWQpyM3oY4dlocw&usqp=CAU\n",
      "https://encrypted-tbn0.gstatic.com/images?q=tbn:ANd9GcRbHNdr5NY7ae6-uExAlxs2rP1lXKMs2Cfl_g&usqp=CAU\n",
      "https://encrypted-tbn0.gstatic.com/images?q=tbn:ANd9GcQe0b1J8ntNrvRzCBrRgou-ASa3DH7RIVT8NA&usqp=CAU\n",
      "https://encrypted-tbn0.gstatic.com/images?q=tbn:ANd9GcRXBaRBqU9u1k07IERCsJNUYI-UKw6bRg0JSg&usqp=CAU\n",
      "https://encrypted-tbn0.gstatic.com/images?q=tbn:ANd9GcSagIdb7ov--0VGh0UWWFxLPPI1dMmd4xzJoQ&usqp=CAU\n",
      "https://encrypted-tbn0.gstatic.com/images?q=tbn:ANd9GcQHEpU2QMxnWKlTHbe1gA3XvwC_xmNlChgCTA&usqp=CAU\n",
      "https://encrypted-tbn0.gstatic.com/images?q=tbn:ANd9GcROg0KNyhSzRQlYQv_-lNZi_AULY81K5lnDqw&usqp=CAU\n",
      "https://encrypted-tbn0.gstatic.com/images?q=tbn:ANd9GcRjeyC1RmKD48IlYoX0SHJxcnThCpLHSbGo_A&usqp=CAU\n",
      "https://encrypted-tbn0.gstatic.com/images?q=tbn:ANd9GcQCHrBVjSYDjEN6GqboJSyQ0jcCHDL1rw6KjQ&usqp=CAU\n",
      "https://encrypted-tbn0.gstatic.com/images?q=tbn:ANd9GcQsc6usFeIzJGePYwDZ8gapyXz-5zU5iwGVsw&usqp=CAU\n",
      "https://encrypted-tbn0.gstatic.com/images?q=tbn:ANd9GcTh4JD_BgtdBK2MbUjHFjSb2t7wqvQsSm9DHg&usqp=CAU\n",
      "https://encrypted-tbn0.gstatic.com/images?q=tbn:ANd9GcSY8WXa8DOSFpm1x6Egzzdjio7byrllElz8sA&usqp=CAU\n",
      "https://encrypted-tbn0.gstatic.com/images?q=tbn:ANd9GcQ5wkSq-_AKvzXceZIRtvLo0mSK9jbmUirHZg&usqp=CAU\n",
      "https://encrypted-tbn0.gstatic.com/images?q=tbn:ANd9GcS_foCrarjoIiqWjNQhvhmwkItWUvd-FpgMWA&usqp=CAU\n",
      "https://encrypted-tbn0.gstatic.com/images?q=tbn:ANd9GcRnW5rdIJRW1KW5POmCtHPiLtF7OSiaO9VIYA&usqp=CAU\n",
      "https://encrypted-tbn0.gstatic.com/images?q=tbn:ANd9GcQ0WW509-hEVO3eOKx1h2inksE1mbWrt2WR6w&usqp=CAU\n",
      "https://encrypted-tbn0.gstatic.com/images?q=tbn:ANd9GcSGaL7DLUUiA3RNXXEDZHBE2ZZN2_r1_PG16w&usqp=CAU\n",
      "https://encrypted-tbn0.gstatic.com/images?q=tbn:ANd9GcQVuRIuT9URjzLbJICOM1_juTsbUgn9QhSY3A&usqp=CAU\n",
      "https://encrypted-tbn0.gstatic.com/images?q=tbn:ANd9GcSkK9WFsuCEvX0fU3ScmBhcPCll8s1FnuV2zapnWMUMFsWVeQvVnUVK&usqp=CAU\n",
      "https://encrypted-tbn0.gstatic.com/images?q=tbn:ANd9GcSUxlSRNqEYC4VL9b-lTExqTe1_gf-zlIWNaZ-VsGQ-pSJo_NB35CdB&usqp=CAU\n",
      "https://encrypted-tbn0.gstatic.com/images?q=tbn:ANd9GcSmSnY7tXlY4d5znn8VypPuFYxuGXF2R7zinLmyYbZIr9mnCoqjOiQe&usqp=CAU\n",
      "https://encrypted-tbn0.gstatic.com/images?q=tbn:ANd9GcSoEN67DBZtuH6vhmjmtvwYmF4Iu6r_hUJyWg&usqp=CAU\n",
      "https://encrypted-tbn0.gstatic.com/images?q=tbn:ANd9GcQFdKUXqUPUPEQD4ryAb_2fXxoFZwT7Mz6A8Q&usqp=CAU\n",
      "https://encrypted-tbn0.gstatic.com/images?q=tbn:ANd9GcTBVznW5IMiM8nDws3t5wug9Q710iCBIT1MbQ&usqp=CAU\n",
      "https://encrypted-tbn0.gstatic.com/images?q=tbn:ANd9GcRNnb7_fVQRyzh2YQq_IOcF0PRewe67avjBpg&usqp=CAU\n",
      "https://encrypted-tbn0.gstatic.com/images?q=tbn:ANd9GcTYF_dc_j_1qS35rbLRe6z0MC3m9vmku1mApg&usqp=CAU\n",
      "https://encrypted-tbn0.gstatic.com/images?q=tbn:ANd9GcS_sZXqqqxrGPJEoOhlyNFzmTvRaIzqfEQ83w&usqp=CAU\n",
      "https://encrypted-tbn0.gstatic.com/images?q=tbn:ANd9GcTGh6_pmTtrbW6tGjF4KvF2c49Pm9-DKBxLUw&usqp=CAU\n",
      "https://encrypted-tbn0.gstatic.com/images?q=tbn:ANd9GcRPoOohAJtGyt8kZlgZfkYcxeURpvFwDlH7DQ&usqp=CAU\n",
      "https://encrypted-tbn0.gstatic.com/images?q=tbn:ANd9GcTw1ZqotvWJTLjonxrP8KCl1oBzbG8YbNwm8w&usqp=CAU\n",
      "https://encrypted-tbn0.gstatic.com/images?q=tbn:ANd9GcTBf-jBwhX46yxO5_8RHcI04j2dr30TZV_DvQ&usqp=CAU\n",
      "https://encrypted-tbn0.gstatic.com/images?q=tbn:ANd9GcQv90-1IzTjwNJhZ4ETipIU-ZXsgZrlpMjDOw&usqp=CAU\n",
      "https://encrypted-tbn0.gstatic.com/images?q=tbn:ANd9GcRVEH23xbYuKY0axdrWBfNiTzsySIz7ehy_Fw&usqp=CAU\n",
      "https://encrypted-tbn0.gstatic.com/images?q=tbn:ANd9GcTDBb58Vf0QEfHgErK-jisWC92wTClueB_R8A&usqp=CAU\n",
      "https://encrypted-tbn0.gstatic.com/images?q=tbn:ANd9GcTpR5Ir6lzkVtkpGPAaSrdPWOo5g-eKoDW2QQ&usqp=CAU\n",
      "https://encrypted-tbn0.gstatic.com/images?q=tbn:ANd9GcR7hs4JH04FETIQxkqzU1j0u1zND-Lm2fyNCg&usqp=CAU\n",
      "https://encrypted-tbn0.gstatic.com/images?q=tbn:ANd9GcTJq3duFLoR9h9PP8JpdhSba5vORpQ28oSIPg&usqp=CAU\n",
      "https://encrypted-tbn0.gstatic.com/images?q=tbn:ANd9GcTow1FZ9nobJUq56VunQs-XAlF2US-l-_PcVQ&usqp=CAU\n",
      "https://encrypted-tbn0.gstatic.com/images?q=tbn:ANd9GcTFzGqsOTj80OmtS9gRTCLTyDb7S4gw3eVoQg&usqp=CAU\n",
      "https://encrypted-tbn0.gstatic.com/images?q=tbn:ANd9GcQejM5DBjnEf-Q_SUeKXwwv2KEVUkJLDeEFVQ&usqp=CAU\n",
      "https://encrypted-tbn0.gstatic.com/images?q=tbn:ANd9GcQsPwDuB5k9gJAYetsQcIWInVcnr3c8cOvn3w&usqp=CAU\n"
     ]
    }
   ],
   "source": [
    "\n",
    "li = browser.find_elements(By.TAG_NAME, \"img\")\n",
    "pattern = re.compile(\"https://*\")\n",
    "url_li =[]\n",
    "for item in li:\n",
    "    if re.match(pattern,str(item.get_attribute(\"src\"))):\n",
    "        print(item.get_attribute(\"src\"))\n",
    "        url_li.append(item.get_attribute(\"src\"))"
   ]
  },
  {
   "cell_type": "code",
   "execution_count": 13,
   "id": "641061f6-6b98-43ab-8042-5e4dbfdfcfd9",
   "metadata": {},
   "outputs": [
    {
     "name": "stdout",
     "output_type": "stream",
     "text": [
      "https://www.gstatic.com/ui/v1/menu/light_thumbnail2.png\n",
      "https://www.gstatic.com/ui/v1/menu/dark_thumbnail2.png\n",
      "https://www.gstatic.com/ui/v1/menu/device_default_thumbnail2.png\n",
      "https://encrypted-tbn0.gstatic.com/images?q=tbn:ANd9GcS5ZJpigoXqpghw0ebIJZQ1vdKUMVnm_a2bjafpGcA&usqp=CAU\n",
      "https://encrypted-tbn0.gstatic.com/images?q=tbn:ANd9GcRGoAf4l3VkOB2H5D9KlW3fo6yA693tw0G8LK7qqc8&usqp=CAU\n",
      "https://encrypted-tbn0.gstatic.com/images?q=tbn:ANd9GcTFiJlQ8BPj14Ku01HKy3Tbj3N924udiCnwQsCkMEw&usqp=CAU\n",
      "https://encrypted-tbn0.gstatic.com/images?q=tbn:ANd9GcQr-JP01PEzfTMGChTpnVZxFrOwPFXpqUwAR_U1Q_4G9s8WQErS&usqp=CAU\n",
      "https://encrypted-tbn0.gstatic.com/images?q=tbn:ANd9GcRoFHfkDSgwwa--HBh-2v2nRkXKJKulhtxiX9cxMYP6ijJX8LwU&usqp=CAU\n",
      "https://encrypted-tbn0.gstatic.com/images?q=tbn:ANd9GcShaVoBYjJ1LF45unBUvY6FgbOzAppiZRivrfkRA6XVdoyZ4fLk&usqp=CAU\n",
      "https://encrypted-tbn0.gstatic.com/images?q=tbn:ANd9GcTDGrbt1xFI-nJvk1EnbwOP1pYAWYOqcva7mwJCydzDpGKIOtqG&usqp=CAU\n",
      "https://encrypted-tbn0.gstatic.com/images?q=tbn:ANd9GcRNLmdAXvOZYiygC2mXSD85iTGFoMFDJSyhL4o_t3BU2QGtgCNk&usqp=CAU\n",
      "https://encrypted-tbn0.gstatic.com/images?q=tbn:ANd9GcRJvL6K7YCYOzB1TDHg4OeyAnr6hRRCQR_edjlc453MFyk1I89L&usqp=CAU\n",
      "https://encrypted-tbn0.gstatic.com/images?q=tbn:ANd9GcSwEog8pV7EiBDeLsmOgIzBpB5EMnDQhuThNxA9Ihm9JC3KF-fb&usqp=CAU\n",
      "https://encrypted-tbn0.gstatic.com/images?q=tbn:ANd9GcSpRZXHQOynmPI2YYLwamfcKQlQzsxWCk0jHzhCamlvRjKLOAb8&usqp=CAU\n",
      "https://encrypted-tbn0.gstatic.com/images?q=tbn:ANd9GcQxsNh2qnWU7pbMWhSRWjTvDCYH7ZCMN60IP9zGE8FcNQNF8ZAn&usqp=CAU\n",
      "https://encrypted-tbn0.gstatic.com/images?q=tbn:ANd9GcQYLxfo8_XnLAdo-d6qf8y6wTqOVdBG990NbAgGLs0&usqp=CAU\n",
      "https://encrypted-tbn0.gstatic.com/images?q=tbn:ANd9GcRL9RsxIpGYzXdGSAl7JQGlkKjougXJ_pEcKGhyDjvUryOM-K7o&usqp=CAU\n",
      "https://encrypted-tbn0.gstatic.com/images?q=tbn:ANd9GcT4epL09ojCFXMWgTOYmpalLcphCgq96YeJrV_DOWY&usqp=CAU\n",
      "https://encrypted-tbn0.gstatic.com/images?q=tbn:ANd9GcSCRXhok6sNPopJJvOzqWGtCVMyAxY7SunpdZOTyviEFfnwSuSY&usqp=CAU\n",
      "https://encrypted-tbn0.gstatic.com/images?q=tbn:ANd9GcQWTrnIQBSkvv44099A8LhYr2N9rfS7fmlrUj0C0WU-8OhYMUhe&usqp=CAU\n",
      "https://encrypted-tbn0.gstatic.com/images?q=tbn:ANd9GcQ2sz8j17C32NVa-MIB1akrA4tVOVlj9jXUEatan0JGVdrqIhCB&usqp=CAU\n",
      "https://encrypted-tbn0.gstatic.com/images?q=tbn:ANd9GcRBsHgQJwBNykGMFeF-q3bzJdm4KDuwSMEn6Q&usqp=CAU\n",
      "https://encrypted-tbn0.gstatic.com/images?q=tbn:ANd9GcRPK3lkugb10SEhhnmB1-_C9o-yUoWTtj9noQ&usqp=CAU\n",
      "https://encrypted-tbn0.gstatic.com/images?q=tbn:ANd9GcTF1O3iLpSUyU8blGr7_OtDMuIJj5pvjtjdlQ&usqp=CAU\n",
      "https://encrypted-tbn0.gstatic.com/images?q=tbn:ANd9GcSLUd13Wuxima3BrzQvJacYUj21TKdse2MTjw&usqp=CAU\n",
      "https://encrypted-tbn0.gstatic.com/images?q=tbn:ANd9GcSYN26FUdQ37rEQMoYV8HYz3nmWQy0C9nWrRaauY4u7v5z7OXwquvKJ&usqp=CAU\n",
      "https://encrypted-tbn0.gstatic.com/images?q=tbn:ANd9GcQgpgbV2Mba3LM08Z6wOb0vFnap39hmSSUL2fMCo1Fz0Tk7FnanPyWo&usqp=CAU\n",
      "https://encrypted-tbn0.gstatic.com/images?q=tbn:ANd9GcR1BAa3iHCfDavBhcRYgqZUycvLHtN2_FHkSwHMdA23moAw7hsTWR9q&usqp=CAU\n",
      "https://encrypted-tbn0.gstatic.com/images?q=tbn:ANd9GcTzyoauccfXA_BSEXlv4dTgsntM_W-f3HSO0A&usqp=CAU\n",
      "https://encrypted-tbn0.gstatic.com/images?q=tbn:ANd9GcSBuyMjTdW3VkXOYTeLHZ6nz-dCZKJE0xhmkg&usqp=CAU\n",
      "https://encrypted-tbn0.gstatic.com/images?q=tbn:ANd9GcSRIhEgUq__gJMmjdOAjHASGObS_HunHhJr9w&usqp=CAU\n",
      "https://encrypted-tbn0.gstatic.com/images?q=tbn:ANd9GcSU4fNkRvYecDp1C0wdfBAnePs6Xhduyq9ibA&usqp=CAU\n",
      "https://encrypted-tbn0.gstatic.com/images?q=tbn:ANd9GcTrGA5tyikubHPgZXOwHjPg7iP10U830zXbow&usqp=CAU\n",
      "https://encrypted-tbn0.gstatic.com/images?q=tbn:ANd9GcS3zZiUgAToVbLkEKhEZ0aTZqGxA9S8cfl9uw&usqp=CAU\n",
      "https://encrypted-tbn0.gstatic.com/images?q=tbn:ANd9GcTtnUpqeNS1szZ6J4x1XqQyWQpyM3oY4dlocw&usqp=CAU\n",
      "https://encrypted-tbn0.gstatic.com/images?q=tbn:ANd9GcRbHNdr5NY7ae6-uExAlxs2rP1lXKMs2Cfl_g&usqp=CAU\n",
      "https://encrypted-tbn0.gstatic.com/images?q=tbn:ANd9GcQe0b1J8ntNrvRzCBrRgou-ASa3DH7RIVT8NA&usqp=CAU\n",
      "https://encrypted-tbn0.gstatic.com/images?q=tbn:ANd9GcRXBaRBqU9u1k07IERCsJNUYI-UKw6bRg0JSg&usqp=CAU\n",
      "https://encrypted-tbn0.gstatic.com/images?q=tbn:ANd9GcSagIdb7ov--0VGh0UWWFxLPPI1dMmd4xzJoQ&usqp=CAU\n",
      "https://encrypted-tbn0.gstatic.com/images?q=tbn:ANd9GcQHEpU2QMxnWKlTHbe1gA3XvwC_xmNlChgCTA&usqp=CAU\n",
      "https://encrypted-tbn0.gstatic.com/images?q=tbn:ANd9GcROg0KNyhSzRQlYQv_-lNZi_AULY81K5lnDqw&usqp=CAU\n",
      "https://encrypted-tbn0.gstatic.com/images?q=tbn:ANd9GcRjeyC1RmKD48IlYoX0SHJxcnThCpLHSbGo_A&usqp=CAU\n",
      "https://encrypted-tbn0.gstatic.com/images?q=tbn:ANd9GcQCHrBVjSYDjEN6GqboJSyQ0jcCHDL1rw6KjQ&usqp=CAU\n",
      "https://encrypted-tbn0.gstatic.com/images?q=tbn:ANd9GcQsc6usFeIzJGePYwDZ8gapyXz-5zU5iwGVsw&usqp=CAU\n",
      "https://encrypted-tbn0.gstatic.com/images?q=tbn:ANd9GcTh4JD_BgtdBK2MbUjHFjSb2t7wqvQsSm9DHg&usqp=CAU\n",
      "https://encrypted-tbn0.gstatic.com/images?q=tbn:ANd9GcSY8WXa8DOSFpm1x6Egzzdjio7byrllElz8sA&usqp=CAU\n",
      "https://encrypted-tbn0.gstatic.com/images?q=tbn:ANd9GcQ5wkSq-_AKvzXceZIRtvLo0mSK9jbmUirHZg&usqp=CAU\n",
      "https://encrypted-tbn0.gstatic.com/images?q=tbn:ANd9GcS_foCrarjoIiqWjNQhvhmwkItWUvd-FpgMWA&usqp=CAU\n",
      "https://encrypted-tbn0.gstatic.com/images?q=tbn:ANd9GcRnW5rdIJRW1KW5POmCtHPiLtF7OSiaO9VIYA&usqp=CAU\n",
      "https://encrypted-tbn0.gstatic.com/images?q=tbn:ANd9GcQ0WW509-hEVO3eOKx1h2inksE1mbWrt2WR6w&usqp=CAU\n",
      "https://encrypted-tbn0.gstatic.com/images?q=tbn:ANd9GcSGaL7DLUUiA3RNXXEDZHBE2ZZN2_r1_PG16w&usqp=CAU\n",
      "https://encrypted-tbn0.gstatic.com/images?q=tbn:ANd9GcQVuRIuT9URjzLbJICOM1_juTsbUgn9QhSY3A&usqp=CAU\n",
      "https://encrypted-tbn0.gstatic.com/images?q=tbn:ANd9GcSkK9WFsuCEvX0fU3ScmBhcPCll8s1FnuV2zapnWMUMFsWVeQvVnUVK&usqp=CAU\n",
      "https://encrypted-tbn0.gstatic.com/images?q=tbn:ANd9GcSUxlSRNqEYC4VL9b-lTExqTe1_gf-zlIWNaZ-VsGQ-pSJo_NB35CdB&usqp=CAU\n",
      "https://encrypted-tbn0.gstatic.com/images?q=tbn:ANd9GcSmSnY7tXlY4d5znn8VypPuFYxuGXF2R7zinLmyYbZIr9mnCoqjOiQe&usqp=CAU\n",
      "https://encrypted-tbn0.gstatic.com/images?q=tbn:ANd9GcSoEN67DBZtuH6vhmjmtvwYmF4Iu6r_hUJyWg&usqp=CAU\n",
      "https://encrypted-tbn0.gstatic.com/images?q=tbn:ANd9GcQFdKUXqUPUPEQD4ryAb_2fXxoFZwT7Mz6A8Q&usqp=CAU\n",
      "https://encrypted-tbn0.gstatic.com/images?q=tbn:ANd9GcTBVznW5IMiM8nDws3t5wug9Q710iCBIT1MbQ&usqp=CAU\n",
      "https://encrypted-tbn0.gstatic.com/images?q=tbn:ANd9GcRNnb7_fVQRyzh2YQq_IOcF0PRewe67avjBpg&usqp=CAU\n",
      "https://encrypted-tbn0.gstatic.com/images?q=tbn:ANd9GcTYF_dc_j_1qS35rbLRe6z0MC3m9vmku1mApg&usqp=CAU\n",
      "https://encrypted-tbn0.gstatic.com/images?q=tbn:ANd9GcS_sZXqqqxrGPJEoOhlyNFzmTvRaIzqfEQ83w&usqp=CAU\n",
      "https://encrypted-tbn0.gstatic.com/images?q=tbn:ANd9GcTGh6_pmTtrbW6tGjF4KvF2c49Pm9-DKBxLUw&usqp=CAU\n",
      "https://encrypted-tbn0.gstatic.com/images?q=tbn:ANd9GcRPoOohAJtGyt8kZlgZfkYcxeURpvFwDlH7DQ&usqp=CAU\n",
      "https://encrypted-tbn0.gstatic.com/images?q=tbn:ANd9GcTw1ZqotvWJTLjonxrP8KCl1oBzbG8YbNwm8w&usqp=CAU\n",
      "https://encrypted-tbn0.gstatic.com/images?q=tbn:ANd9GcTBf-jBwhX46yxO5_8RHcI04j2dr30TZV_DvQ&usqp=CAU\n",
      "https://encrypted-tbn0.gstatic.com/images?q=tbn:ANd9GcQv90-1IzTjwNJhZ4ETipIU-ZXsgZrlpMjDOw&usqp=CAU\n",
      "https://encrypted-tbn0.gstatic.com/images?q=tbn:ANd9GcRVEH23xbYuKY0axdrWBfNiTzsySIz7ehy_Fw&usqp=CAU\n",
      "https://encrypted-tbn0.gstatic.com/images?q=tbn:ANd9GcTDBb58Vf0QEfHgErK-jisWC92wTClueB_R8A&usqp=CAU\n",
      "https://encrypted-tbn0.gstatic.com/images?q=tbn:ANd9GcTpR5Ir6lzkVtkpGPAaSrdPWOo5g-eKoDW2QQ&usqp=CAU\n",
      "https://encrypted-tbn0.gstatic.com/images?q=tbn:ANd9GcR7hs4JH04FETIQxkqzU1j0u1zND-Lm2fyNCg&usqp=CAU\n",
      "https://encrypted-tbn0.gstatic.com/images?q=tbn:ANd9GcTJq3duFLoR9h9PP8JpdhSba5vORpQ28oSIPg&usqp=CAU\n",
      "https://encrypted-tbn0.gstatic.com/images?q=tbn:ANd9GcTow1FZ9nobJUq56VunQs-XAlF2US-l-_PcVQ&usqp=CAU\n",
      "https://encrypted-tbn0.gstatic.com/images?q=tbn:ANd9GcTFzGqsOTj80OmtS9gRTCLTyDb7S4gw3eVoQg&usqp=CAU\n",
      "https://encrypted-tbn0.gstatic.com/images?q=tbn:ANd9GcQejM5DBjnEf-Q_SUeKXwwv2KEVUkJLDeEFVQ&usqp=CAU\n",
      "https://encrypted-tbn0.gstatic.com/images?q=tbn:ANd9GcQsPwDuB5k9gJAYetsQcIWInVcnr3c8cOvn3w&usqp=CAU\n"
     ]
    }
   ],
   "source": [
    "response =[]\n",
    "count=0\n",
    "try:\n",
    "    for link in url_li:\n",
    "        response.append(requests.get(link))\n",
    "        print(link)\n",
    "        open(str(count)+\"instagram.jpg\", \"wb\").write(response[count].content)\n",
    "        count+=1\n",
    "except (ex.NoSuchWindowException,ex.WebDriverException) as err:\n",
    "        print(\"The window is closed or Chrome is not reachable. Restart the program\")\n",
    "        browser.quit()"
   ]
  },
  {
   "cell_type": "code",
   "execution_count": null,
   "id": "9e8b40ae-cdc6-4a0b-81fc-51ca343d6031",
   "metadata": {},
   "outputs": [],
   "source": []
  }
 ],
 "metadata": {
  "kernelspec": {
   "display_name": "Python 3 (ipykernel)",
   "language": "python",
   "name": "python3"
  },
  "language_info": {
   "codemirror_mode": {
    "name": "ipython",
    "version": 3
   },
   "file_extension": ".py",
   "mimetype": "text/x-python",
   "name": "python",
   "nbconvert_exporter": "python",
   "pygments_lexer": "ipython3",
   "version": "3.9.7"
  }
 },
 "nbformat": 4,
 "nbformat_minor": 5
}
