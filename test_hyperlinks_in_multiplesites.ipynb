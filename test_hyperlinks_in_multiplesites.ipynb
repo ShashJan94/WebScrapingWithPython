{
 "cells": [
  {
   "cell_type": "code",
   "execution_count": 6,
   "id": "9179ce00-1941-4410-abde-4b6db575d564",
   "metadata": {},
   "outputs": [],
   "source": [
    "import requests as rs\n",
    "from selenium import webdriver\n",
    "from webdriver_manager.chrome import ChromeDriverManager\n",
    "from selenium.common import exceptions as ex\n",
    "import re,_thread"
   ]
  },
  {
   "cell_type": "code",
   "execution_count": 12,
   "id": "48a853ac-4707-4078-a38b-ada51d488a89",
   "metadata": {},
   "outputs": [
    {
     "name": "stdout",
     "output_type": "stream",
     "text": [
      "\n"
     ]
    },
    {
     "name": "stderr",
     "output_type": "stream",
     "text": [
      "[WDM] - ====== WebDriver manager ======\n"
     ]
    },
    {
     "name": "stdout",
     "output_type": "stream",
     "text": [
      "2022-07-12 01:53:59,517 INFO ====== WebDriver manager ======\n"
     ]
    },
    {
     "name": "stderr",
     "output_type": "stream",
     "text": [
      "[WDM] - Current google-chrome version is 103.0.5060\n"
     ]
    },
    {
     "name": "stdout",
     "output_type": "stream",
     "text": [
      "2022-07-12 01:53:59,521 INFO Current google-chrome version is 103.0.5060\n"
     ]
    },
    {
     "name": "stderr",
     "output_type": "stream",
     "text": [
      "[WDM] - Get LATEST chromedriver version for 103.0.5060 google-chrome\n"
     ]
    },
    {
     "name": "stdout",
     "output_type": "stream",
     "text": [
      "2022-07-12 01:53:59,522 INFO Get LATEST chromedriver version for 103.0.5060 google-chrome\n"
     ]
    },
    {
     "name": "stderr",
     "output_type": "stream",
     "text": [
      "[WDM] - Driver [C:\\Users\\ctgfa\\.wdm\\drivers\\chromedriver\\win32\\103.0.5060.53\\chromedriver.exe] found in cache\n"
     ]
    },
    {
     "name": "stdout",
     "output_type": "stream",
     "text": [
      "2022-07-12 01:53:59,650 INFO Driver [C:\\Users\\ctgfa\\.wdm\\drivers\\chromedriver\\win32\\103.0.5060.53\\chromedriver.exe] found in cache\n"
     ]
    },
    {
     "name": "stderr",
     "output_type": "stream",
     "text": [
      "C:\\Users\\ctgfa\\AppData\\Local\\Temp/ipykernel_201468/2236774802.py:1: DeprecationWarning: executable_path has been deprecated, please pass in a Service object\n",
      "  driver = webdriver.Chrome(ChromeDriverManager().install())\n"
     ]
    }
   ],
   "source": [
    "driver = webdriver.Chrome(ChromeDriverManager().install())\n",
    "def TestMultipleLinks(url):\n",
    "    driver.get(url)\n",
    "    links= driver.find_elements_by_css_selector(\"a\")\n",
    "    for link in links:\n",
    "        if(rs.head(link.get_attribute('href')).status_code==200):\n",
    "            print(link.get_attribute('href'))\n",
    "            print (\"The link is valid\")\n",
    "        else:\n",
    "            print(\"The link is invalid\")\n",
    "    \n",
    "    "
   ]
  },
  {
   "cell_type": "code",
   "execution_count": 15,
   "id": "b0fb38ba-0bc4-4728-a667-171182f1e69c",
   "metadata": {},
   "outputs": [],
   "source": [
    "def urlList():\n",
    "    linkList = []\n",
    "    n=int(input())\n",
    "    for link in range (0,100):\n",
    "        if not n:\n",
    "            linkList.append(str(input()))\n",
    "        else:\n",
    "            break \n",
    "    try:\n",
    "        for itr in range(len(linkList)):\n",
    "            if len(linkList)==0 or len(linkList)>0:\n",
    "                    print(\"There is no url for testing links\")\n",
    "            else:\n",
    "                    if len(linkList)<int(0.5*len(linkList)):\n",
    "                        _thread.start_new_thread(TestMultipleLinks,('Thread-1',linkList(itr),))\n",
    "                    else:\n",
    "                        _thread.start_new_thread(TestMultipleLinks,('Thread-2',linkList(itr),))\n",
    "    except:\n",
    "            print(\"Unable to start threads\")\n",
    "    return\n",
    "                            \n"
   ]
  },
  {
   "cell_type": "code",
   "execution_count": null,
   "id": "1e2dac1f-67d8-4169-8412-1ca16d9040aa",
   "metadata": {},
   "outputs": [],
   "source": []
  }
 ],
 "metadata": {
  "kernelspec": {
   "display_name": "Python 3 (ipykernel)",
   "language": "python",
   "name": "python3"
  },
  "language_info": {
   "codemirror_mode": {
    "name": "ipython",
    "version": 3
   },
   "file_extension": ".py",
   "mimetype": "text/x-python",
   "name": "python",
   "nbconvert_exporter": "python",
   "pygments_lexer": "ipython3",
   "version": "3.9.7"
  }
 },
 "nbformat": 4,
 "nbformat_minor": 5
}
